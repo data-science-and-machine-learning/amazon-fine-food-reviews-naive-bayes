{
  "nbformat": 4,
  "nbformat_minor": 0,
  "metadata": {
    "colab": {
      "name": "Amazon Fine Food Reviews Analysis_NaiveBayes.ipynb",
      "version": "0.3.2",
      "provenance": [],
      "collapsed_sections": [],
      "toc_visible": true,
      "include_colab_link": true
    },
    "kernelspec": {
      "name": "python3",
      "display_name": "Python 3"
    },
    "accelerator": "TPU"
  },
  "cells": [
    {
      "cell_type": "markdown",
      "metadata": {
        "id": "view-in-github",
        "colab_type": "text"
      },
      "source": [
        "<a href=\"https://colab.research.google.com/github/data-science-and-machine-learning/amazon-fine-food-reviews-naive-bayes/blob/master/Amazon_Fine_Food_Reviews_Analysis_NaiveBayes.ipynb\" target=\"_parent\"><img src=\"https://colab.research.google.com/assets/colab-badge.svg\" alt=\"Open In Colab\"/></a>"
      ]
    },
    {
      "cell_type": "markdown",
      "metadata": {
        "id": "UIn1GsFNJkjH",
        "colab_type": "text"
      },
      "source": [
        "# Amazon Fine Food Reviews Analysis\n",
        "\n",
        "\n",
        "Data Source: https://www.kaggle.com/snap/amazon-fine-food-reviews <br>\n",
        "\n",
        "EDA: https://nycdatascience.com/blog/student-works/amazon-fine-foods-visualization/\n",
        "\n",
        "\n",
        "The Amazon Fine Food Reviews dataset consists of reviews of fine foods from Amazon.<br>\n",
        "\n",
        "Number of reviews: 568,454<br>\n",
        "Number of users: 256,059<br>\n",
        "Number of products: 74,258<br>\n",
        "Timespan: Oct 1999 - Oct 2012<br>\n",
        "Number of Attributes/Columns in data: 10 \n",
        "\n",
        "Attribute Information:\n",
        "\n",
        "1. Id\n",
        "2. ProductId - unique identifier for the product\n",
        "3. UserId - unqiue identifier for the user\n",
        "4. ProfileName\n",
        "5. HelpfulnessNumerator - number of users who found the review helpful\n",
        "6. HelpfulnessDenominator - number of users who indicated whether they found the review helpful or not\n",
        "7. Score - rating between 1 and 5\n",
        "8. Time - timestamp for the review\n",
        "9. Summary - brief summary of the review\n",
        "10. Text - text of the review\n",
        "\n",
        "\n",
        "#### Objective:\n",
        "Given a review, determine whether the review is positive (rating of 4 or 5) or negative (rating of 1 or 2).\n",
        "\n",
        "<br>\n",
        "[Q] How to determine if a review is positive or negative?<br>\n",
        "<br> \n",
        "[Ans] We could use Score/Rating. A rating of 4 or 5 can be cosnidered as a positive review. A rating of 1 or 2 can be considered as negative one. A review of rating 3 is considered nuetral and such reviews are ignored from our analysis. This is an approximate and proxy way of determining the polarity (positivity/negativity) of a review.\n",
        "\n",
        "\n"
      ]
    },
    {
      "cell_type": "markdown",
      "metadata": {
        "id": "5Uf26aoLJkjJ",
        "colab_type": "text"
      },
      "source": [
        "# [1]. Reading Data"
      ]
    },
    {
      "cell_type": "markdown",
      "metadata": {
        "id": "yo-LaJg3JkjK",
        "colab_type": "text"
      },
      "source": [
        "## [1.1] Loading the data\n",
        "\n",
        "The dataset is available in two forms\n",
        "1. .csv file\n",
        "2. SQLite Database\n",
        "\n",
        "In order to load the data, We have used the SQLITE dataset as it is easier to query the data and visualise the data efficiently.\n",
        "<br> \n",
        "\n",
        "Here as we only want to get the global sentiment of the recommendations (positive or negative), we will purposefully ignore all Scores equal to 3. If the score is above 3, then the recommendation wil be set to \"positive\". Otherwise, it will be set to \"negative\"."
      ]
    },
    {
      "cell_type": "code",
      "metadata": {
        "id": "L10hagfHUWa8",
        "colab_type": "code",
        "outputId": "353913bc-0390-4e5f-9c14-55edc67e0bcd",
        "colab": {
          "resources": {
            "http://localhost:8080/nbextensions/google.colab/files.js": {
              "data": "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",
              "ok": true,
              "headers": [
                [
                  "content-type",
                  "application/javascript"
                ]
              ],
              "status": 200,
              "status_text": ""
            }
          },
          "base_uri": "https://localhost:8080/",
          "height": 193
        }
      },
      "source": [
        "from google.colab import drive\n",
        "from google.colab import files\n",
        "\n",
        "drive.mount('/content/drive/')\n",
        "files.upload()\n"
      ],
      "execution_count": 1,
      "outputs": [
        {
          "output_type": "stream",
          "text": [
            "Go to this URL in a browser: https://accounts.google.com/o/oauth2/auth?client_id=947318989803-6bn6qk8qdgf4n4g3pfee6491hc0brc4i.apps.googleusercontent.com&redirect_uri=urn%3Aietf%3Awg%3Aoauth%3A2.0%3Aoob&scope=email%20https%3A%2F%2Fwww.googleapis.com%2Fauth%2Fdocs.test%20https%3A%2F%2Fwww.googleapis.com%2Fauth%2Fdrive%20https%3A%2F%2Fwww.googleapis.com%2Fauth%2Fdrive.photos.readonly%20https%3A%2F%2Fwww.googleapis.com%2Fauth%2Fpeopleapi.readonly&response_type=code\n",
            "\n",
            "Enter your authorization code:\n",
            "··········\n",
            "Mounted at /content/drive/\n"
          ],
          "name": "stdout"
        },
        {
          "output_type": "display_data",
          "data": {
            "text/html": [
              "\n",
              "     <input type=\"file\" id=\"files-b88ef6af-3430-4afa-994a-ef276788fb72\" name=\"files[]\" multiple disabled />\n",
              "     <output id=\"result-b88ef6af-3430-4afa-994a-ef276788fb72\">\n",
              "      Upload widget is only available when the cell has been executed in the\n",
              "      current browser session. Please rerun this cell to enable.\n",
              "      </output>\n",
              "      <script src=\"/nbextensions/google.colab/files.js\"></script> "
            ],
            "text/plain": [
              "<IPython.core.display.HTML object>"
            ]
          },
          "metadata": {
            "tags": []
          }
        },
        {
          "output_type": "stream",
          "text": [
            "Saving kaggle.json to kaggle.json\n"
          ],
          "name": "stdout"
        },
        {
          "output_type": "execute_result",
          "data": {
            "text/plain": [
              "{'kaggle.json': b'{\"username\":\"mriduleecs\",\"key\":\"c7aead406d827f0104c9072466c6fac6\"}'}"
            ]
          },
          "metadata": {
            "tags": []
          },
          "execution_count": 1
        }
      ]
    },
    {
      "cell_type": "code",
      "metadata": {
        "id": "rf88IskMVb_6",
        "colab_type": "code",
        "outputId": "560afe42-5798-4b93-8e40-7a0b1a6aae4c",
        "colab": {
          "base_uri": "https://localhost:8080/",
          "height": 150
        }
      },
      "source": [
        "!cp kaggle.json ~/.kaggle/\n",
        "!kaggle datasets download -d snap/amazon-fine-food-reviews\n",
        "!unzip amazon-fine-food-reviews.zip -d amazon-fine-food-reviews-data\n"
      ],
      "execution_count": 3,
      "outputs": [
        {
          "output_type": "stream",
          "text": [
            "Warning: Your Kaggle API key is readable by other users on this system! To fix this, you can run 'chmod 600 /root/.kaggle/kaggle.json'\n",
            "Downloading amazon-fine-food-reviews.zip to /content\n",
            "100% 250M/251M [00:03<00:00, 89.8MB/s]\n",
            "100% 251M/251M [00:03<00:00, 84.1MB/s]\n",
            "Archive:  amazon-fine-food-reviews.zip\n",
            "  inflating: amazon-fine-food-reviews-data/Reviews.csv  \n",
            "  inflating: amazon-fine-food-reviews-data/database.sqlite  \n",
            "  inflating: amazon-fine-food-reviews-data/hashes.txt  \n"
          ],
          "name": "stdout"
        }
      ]
    },
    {
      "cell_type": "code",
      "metadata": {
        "id": "dLYq3BkfJkjL",
        "colab_type": "code",
        "colab": {}
      },
      "source": [
        "%matplotlib inline\n",
        "import warnings\n",
        "warnings.filterwarnings(\"ignore\")\n",
        "\n",
        "\n",
        "import sqlite3\n",
        "import pandas as pd\n",
        "import numpy as np\n",
        "import nltk\n",
        "import string\n",
        "import matplotlib.pyplot as plt\n",
        "import seaborn as sns\n",
        "from sklearn.feature_extraction.text import TfidfTransformer\n",
        "from sklearn.feature_extraction.text import TfidfVectorizer\n",
        "\n",
        "from sklearn.feature_extraction.text import CountVectorizer\n",
        "from sklearn.metrics import confusion_matrix\n",
        "from sklearn import metrics\n",
        "from sklearn.metrics import roc_curve, auc\n",
        "from nltk.stem.porter import PorterStemmer\n",
        "\n",
        "import re\n",
        "# Tutorial about Python regular expressions: https://pymotw.com/2/re/\n",
        "import string\n",
        "from nltk.corpus import stopwords\n",
        "from nltk.stem import PorterStemmer\n",
        "from nltk.stem.wordnet import WordNetLemmatizer\n",
        "\n",
        "from gensim.models import Word2Vec\n",
        "from gensim.models import KeyedVectors\n",
        "import pickle\n",
        "\n",
        "from tqdm import tqdm\n",
        "import os"
      ],
      "execution_count": 0,
      "outputs": []
    },
    {
      "cell_type": "code",
      "metadata": {
        "id": "rXVxnx_NJkjO",
        "colab_type": "code",
        "outputId": "a553e7e5-1d9b-4682-bafd-03a94563985e",
        "colab": {
          "base_uri": "https://localhost:8080/",
          "height": 271
        }
      },
      "source": [
        "# using SQLite Table to read data.\n",
        "con = sqlite3.connect('amazon-fine-food-reviews-data/database.sqlite') \n",
        "\n",
        "# filtering only positive and negative reviews i.e. \n",
        "# not taking into consideration those reviews with Score=3\n",
        "# SELECT * FROM Reviews WHERE Score != 3 LIMIT 500000, will give top 500000 data points\n",
        "# you can change the number to any other number based on your computing power\n",
        "\n",
        "# filtered_data = pd.read_sql_query(\"\"\" SELECT * FROM Reviews WHERE Score != 3 LIMIT 500000\"\"\", con) \n",
        "# for tsne assignment you can take 5k data points\n",
        "\n",
        "filtered_data = pd.read_sql_query(\"\"\" SELECT * FROM Reviews WHERE Score != 3 ORDER BY Time Asc\"\"\", con) \n",
        "\n",
        "# Give reviews with Score>3 a positive rating(1), and reviews with a score<3 a negative rating(0).\n",
        "def partition(x):\n",
        "    if x < 3:\n",
        "        return 0\n",
        "    return 1\n",
        "\n",
        "#changing reviews with score less than 3 to be positive and vice-versa\n",
        "actualScore = filtered_data['Score']\n",
        "positiveNegative = actualScore.map(partition) \n",
        "filtered_data['Score'] = positiveNegative\n",
        "print(\"Number of data points in our data\", filtered_data.shape)\n",
        "filtered_data.head(3)"
      ],
      "execution_count": 5,
      "outputs": [
        {
          "output_type": "stream",
          "text": [
            "Number of data points in our data (525814, 10)\n"
          ],
          "name": "stdout"
        },
        {
          "output_type": "execute_result",
          "data": {
            "text/html": [
              "<div>\n",
              "<style scoped>\n",
              "    .dataframe tbody tr th:only-of-type {\n",
              "        vertical-align: middle;\n",
              "    }\n",
              "\n",
              "    .dataframe tbody tr th {\n",
              "        vertical-align: top;\n",
              "    }\n",
              "\n",
              "    .dataframe thead th {\n",
              "        text-align: right;\n",
              "    }\n",
              "</style>\n",
              "<table border=\"1\" class=\"dataframe\">\n",
              "  <thead>\n",
              "    <tr style=\"text-align: right;\">\n",
              "      <th></th>\n",
              "      <th>Id</th>\n",
              "      <th>ProductId</th>\n",
              "      <th>UserId</th>\n",
              "      <th>ProfileName</th>\n",
              "      <th>HelpfulnessNumerator</th>\n",
              "      <th>HelpfulnessDenominator</th>\n",
              "      <th>Score</th>\n",
              "      <th>Time</th>\n",
              "      <th>Summary</th>\n",
              "      <th>Text</th>\n",
              "    </tr>\n",
              "  </thead>\n",
              "  <tbody>\n",
              "    <tr>\n",
              "      <th>0</th>\n",
              "      <td>150524</td>\n",
              "      <td>0006641040</td>\n",
              "      <td>ACITT7DI6IDDL</td>\n",
              "      <td>shari zychinski</td>\n",
              "      <td>0</td>\n",
              "      <td>0</td>\n",
              "      <td>1</td>\n",
              "      <td>939340800</td>\n",
              "      <td>EVERY book is educational</td>\n",
              "      <td>this witty little book makes my son laugh at l...</td>\n",
              "    </tr>\n",
              "    <tr>\n",
              "      <th>1</th>\n",
              "      <td>150501</td>\n",
              "      <td>0006641040</td>\n",
              "      <td>AJ46FKXOVC7NR</td>\n",
              "      <td>Nicholas A Mesiano</td>\n",
              "      <td>2</td>\n",
              "      <td>2</td>\n",
              "      <td>1</td>\n",
              "      <td>940809600</td>\n",
              "      <td>This whole series is great way to spend time w...</td>\n",
              "      <td>I can remember seeing the show when it aired o...</td>\n",
              "    </tr>\n",
              "    <tr>\n",
              "      <th>2</th>\n",
              "      <td>451856</td>\n",
              "      <td>B00004CXX9</td>\n",
              "      <td>AIUWLEQ1ADEG5</td>\n",
              "      <td>Elizabeth Medina</td>\n",
              "      <td>0</td>\n",
              "      <td>0</td>\n",
              "      <td>1</td>\n",
              "      <td>944092800</td>\n",
              "      <td>Entertainingl Funny!</td>\n",
              "      <td>Beetlejuice is a well written movie ..... ever...</td>\n",
              "    </tr>\n",
              "  </tbody>\n",
              "</table>\n",
              "</div>"
            ],
            "text/plain": [
              "       Id  ...                                               Text\n",
              "0  150524  ...  this witty little book makes my son laugh at l...\n",
              "1  150501  ...  I can remember seeing the show when it aired o...\n",
              "2  451856  ...  Beetlejuice is a well written movie ..... ever...\n",
              "\n",
              "[3 rows x 10 columns]"
            ]
          },
          "metadata": {
            "tags": []
          },
          "execution_count": 5
        }
      ]
    },
    {
      "cell_type": "markdown",
      "metadata": {
        "id": "y22fy_WtJkji",
        "colab_type": "text"
      },
      "source": [
        "#  [2] Exploratory Data Analysis"
      ]
    },
    {
      "cell_type": "markdown",
      "metadata": {
        "id": "ZqpW3tWPJkjl",
        "colab_type": "text"
      },
      "source": [
        "## [2.1] Data Cleaning: Deduplication\n",
        "\n",
        "It is observed (as shown in the table below) that the reviews data had many duplicate entries. Hence it was necessary to remove duplicates in order to get unbiased results for the analysis of the data.  Following is an example:"
      ]
    },
    {
      "cell_type": "code",
      "metadata": {
        "id": "dfaQob28Jkju",
        "colab_type": "code",
        "outputId": "8fe739a7-e11c-4b6a-c9c3-424bcb140178",
        "colab": {
          "base_uri": "https://localhost:8080/",
          "height": 50
        }
      },
      "source": [
        "#Deduplication of entries\n",
        "print(filtered_data.shape)\n",
        "final=filtered_data.drop_duplicates(subset={\"UserId\",\"ProfileName\",\"Time\",\"Text\"}, keep='first', inplace=False)\n",
        "final=final[final.HelpfulnessNumerator<=final.HelpfulnessDenominator]\n",
        "print(final.shape)"
      ],
      "execution_count": 6,
      "outputs": [
        {
          "output_type": "stream",
          "text": [
            "(525814, 10)\n",
            "(364171, 10)\n"
          ],
          "name": "stdout"
        }
      ]
    },
    {
      "cell_type": "code",
      "metadata": {
        "id": "9QVxT6oxJkjx",
        "colab_type": "code",
        "outputId": "9908857f-dcee-445a-c9e0-1449eb76dc46",
        "colab": {
          "base_uri": "https://localhost:8080/",
          "height": 33
        }
      },
      "source": [
        "#Checking to see how much % of data still remains\n",
        "(final['Id'].size*1.0)/(filtered_data['Id'].size*1.0)*100"
      ],
      "execution_count": 7,
      "outputs": [
        {
          "output_type": "execute_result",
          "data": {
            "text/plain": [
              "69.25852107399194"
            ]
          },
          "metadata": {
            "tags": []
          },
          "execution_count": 7
        }
      ]
    },
    {
      "cell_type": "code",
      "metadata": {
        "id": "CofRySJyJkkC",
        "colab_type": "code",
        "outputId": "d491034f-0ed5-40eb-9288-5555ca83a2c4",
        "colab": {
          "base_uri": "https://localhost:8080/",
          "height": 83
        }
      },
      "source": [
        "#Before starting the next phase of preprocessing lets see the number of entries left\n",
        "print(final.shape)\n",
        "\n",
        "#How many positive and negative reviews are present in our dataset?\n",
        "final['Score'].value_counts()"
      ],
      "execution_count": 8,
      "outputs": [
        {
          "output_type": "stream",
          "text": [
            "(364171, 10)\n"
          ],
          "name": "stdout"
        },
        {
          "output_type": "execute_result",
          "data": {
            "text/plain": [
              "1    307061\n",
              "0     57110\n",
              "Name: Score, dtype: int64"
            ]
          },
          "metadata": {
            "tags": []
          },
          "execution_count": 8
        }
      ]
    },
    {
      "cell_type": "markdown",
      "metadata": {
        "id": "-fEWeywxJkkI",
        "colab_type": "text"
      },
      "source": [
        "#  [3] Preprocessing"
      ]
    },
    {
      "cell_type": "markdown",
      "metadata": {
        "id": "tzpbt9aOJkkJ",
        "colab_type": "text"
      },
      "source": [
        "## [3.1].  Preprocessing Review Text\n",
        "\n",
        "Now that we have finished deduplication our data requires some preprocessing before we go on further with analysis and making the prediction model.\n",
        "\n",
        "Hence in the Preprocessing phase we do the following in the order below:-\n",
        "\n",
        "1. Begin by removing the html tags\n",
        "2. Remove any punctuations or limited set of special characters like , or . or # etc.\n",
        "3. Check if the word is made up of english letters and is not alpha-numeric\n",
        "4. Check to see if the length of the word is greater than 2 (as it was researched that there is no adjective in 2-letters)\n",
        "5. Convert the word to lowercase\n",
        "6. Remove Stopwords\n",
        "7. Finally Snowball Stemming the word (it was obsereved to be better than Porter Stemming)<br>\n",
        "\n",
        "After which we collect the words used to describe positive and negative reviews"
      ]
    },
    {
      "cell_type": "code",
      "metadata": {
        "id": "YqxBeLk8JkkL",
        "colab_type": "code",
        "outputId": "aa95a8f5-01a2-4fd8-aed3-eb09d2b1c37b",
        "colab": {
          "base_uri": "https://localhost:8080/",
          "height": 170
        }
      },
      "source": [
        "# printing some random reviews\n",
        "sent_0 = final['Text'].values[0]\n",
        "print(sent_0)\n",
        "print(\"=\"*50)\n",
        "\n",
        "sent_1000 = final['Text'].values[1000]\n",
        "print(sent_1000)\n",
        "print(\"=\"*50)\n",
        "\n",
        "sent_1500 = final['Text'].values[1500]\n",
        "print(sent_1500)\n",
        "print(\"=\"*50)\n",
        "\n",
        "sent_4900 = final['Text'].values[4900]\n",
        "print(sent_4900)\n",
        "print(\"=\"*50)"
      ],
      "execution_count": 9,
      "outputs": [
        {
          "output_type": "stream",
          "text": [
            "this witty little book makes my son laugh at loud. i recite it in the car as we're driving along and he always can sing the refrain. he's learned about whales, India, drooping roses:  i love all the new words this book  introduces and the silliness of it all.  this is a classic book i am  willing to bet my son will STILL be able to recite from memory when he is  in college\n",
            "==================================================\n",
            "You have no idea how many salchichon sandwiches I consumed while in Spain. Neither do I but it was a lot. Salchichon is somewhat like a hard salami but milder and less greasy. This particular product is pretty close to the salchichones I had in Spain. I prefer salchichon to chorizo for sandwiches but I prefer chorizo for eating as-is. Now someone just needs to open a good bakery around here that makes a good so-called \"french\" bread like the ones I had in Spain.\n",
            "==================================================\n",
            "For those on a raw diet, this product is one of the best.  It is a simple snack (made with only two ingredients; dates and cashews), with no preservatives.  Even if you are not a raw foodist, this bar is a healthy snack to be enjoyed by all.  I even convinced by 83 year-old father to try one and he is hooked!\n",
            "==================================================\n",
            "I had been looking for this product since having them at a wine tasting party. Someone suggested Amazon.com, and I thought \"That's ridiculous!  You don't buy crackers on Amazon. com!, but lo and behold, there they were!  Now I know you can find ANYTHING on Amazon!\n",
            "==================================================\n"
          ],
          "name": "stdout"
        }
      ]
    },
    {
      "cell_type": "code",
      "metadata": {
        "id": "lWiJ2_9gJkkP",
        "colab_type": "code",
        "outputId": "d7008091-d829-4cfc-f9f0-f0f9731e566e",
        "colab": {
          "base_uri": "https://localhost:8080/",
          "height": 53
        }
      },
      "source": [
        "# remove urls from text python: https://stackoverflow.com/a/40823105/4084039\n",
        "sent_0 = re.sub(r\"http\\S+\", \"\", sent_0)\n",
        "sent_1000 = re.sub(r\"http\\S+\", \"\", sent_1000)\n",
        "sent_150 = re.sub(r\"http\\S+\", \"\", sent_1500)\n",
        "sent_4900 = re.sub(r\"http\\S+\", \"\", sent_4900)\n",
        "\n",
        "print(sent_0)"
      ],
      "execution_count": 10,
      "outputs": [
        {
          "output_type": "stream",
          "text": [
            "this witty little book makes my son laugh at loud. i recite it in the car as we're driving along and he always can sing the refrain. he's learned about whales, India, drooping roses:  i love all the new words this book  introduces and the silliness of it all.  this is a classic book i am  willing to bet my son will STILL be able to recite from memory when he is  in college\n"
          ],
          "name": "stdout"
        }
      ]
    },
    {
      "cell_type": "code",
      "metadata": {
        "id": "cpLtZ-lAJkkR",
        "colab_type": "code",
        "outputId": "90a0c43b-2a8e-4024-9e83-25b8d745bbc8",
        "colab": {
          "base_uri": "https://localhost:8080/",
          "height": 153
        }
      },
      "source": [
        "# https://stackoverflow.com/questions/16206380/python-beautifulsoup-how-to-remove-all-tags-from-an-element\n",
        "from bs4 import BeautifulSoup\n",
        "\n",
        "soup = BeautifulSoup(sent_0, 'lxml')\n",
        "text = soup.get_text()\n",
        "print(text)\n",
        "print(\"=\"*50)\n",
        "\n",
        "soup = BeautifulSoup(sent_1000, 'lxml')\n",
        "text = soup.get_text()\n",
        "print(text)\n",
        "print(\"=\"*50)\n",
        "\n",
        "soup = BeautifulSoup(sent_1500, 'lxml')\n",
        "text = soup.get_text()\n",
        "print(text)\n",
        "print(\"=\"*50)\n",
        "\n",
        "soup = BeautifulSoup(sent_4900, 'lxml')\n",
        "text = soup.get_text()\n",
        "print(text)"
      ],
      "execution_count": 11,
      "outputs": [
        {
          "output_type": "stream",
          "text": [
            "this witty little book makes my son laugh at loud. i recite it in the car as we're driving along and he always can sing the refrain. he's learned about whales, India, drooping roses:  i love all the new words this book  introduces and the silliness of it all.  this is a classic book i am  willing to bet my son will STILL be able to recite from memory when he is  in college\n",
            "==================================================\n",
            "You have no idea how many salchichon sandwiches I consumed while in Spain. Neither do I but it was a lot. Salchichon is somewhat like a hard salami but milder and less greasy. This particular product is pretty close to the salchichones I had in Spain. I prefer salchichon to chorizo for sandwiches but I prefer chorizo for eating as-is. Now someone just needs to open a good bakery around here that makes a good so-called \"french\" bread like the ones I had in Spain.\n",
            "==================================================\n",
            "For those on a raw diet, this product is one of the best.  It is a simple snack (made with only two ingredients; dates and cashews), with no preservatives.  Even if you are not a raw foodist, this bar is a healthy snack to be enjoyed by all.  I even convinced by 83 year-old father to try one and he is hooked!\n",
            "==================================================\n",
            "I had been looking for this product since having them at a wine tasting party. Someone suggested Amazon.com, and I thought \"That's ridiculous!  You don't buy crackers on Amazon. com!, but lo and behold, there they were!  Now I know you can find ANYTHING on Amazon!\n"
          ],
          "name": "stdout"
        }
      ]
    },
    {
      "cell_type": "code",
      "metadata": {
        "id": "HYBbtiCMJkkW",
        "colab_type": "code",
        "colab": {}
      },
      "source": [
        "# https://stackoverflow.com/a/47091490/4084039\n",
        "import re\n",
        "\n",
        "def decontracted(phrase):\n",
        "    # specific\n",
        "    phrase = re.sub(r\"won't\", \"will not\", phrase)\n",
        "    phrase = re.sub(r\"can\\'t\", \"can not\", phrase)\n",
        "\n",
        "    # general\n",
        "    phrase = re.sub(r\"n\\'t\", \" not\", phrase)\n",
        "    phrase = re.sub(r\"\\'re\", \" are\", phrase)\n",
        "    phrase = re.sub(r\"\\'s\", \" is\", phrase)\n",
        "    phrase = re.sub(r\"\\'d\", \" would\", phrase)\n",
        "    phrase = re.sub(r\"\\'ll\", \" will\", phrase)\n",
        "    phrase = re.sub(r\"\\'t\", \" not\", phrase)\n",
        "    phrase = re.sub(r\"\\'ve\", \" have\", phrase)\n",
        "    phrase = re.sub(r\"\\'m\", \" am\", phrase)\n",
        "    return phrase"
      ],
      "execution_count": 0,
      "outputs": []
    },
    {
      "cell_type": "code",
      "metadata": {
        "id": "WPQSZurTJkkY",
        "colab_type": "code",
        "outputId": "afe6b5ba-d189-4f69-ac58-23b63fb9a446",
        "colab": {
          "base_uri": "https://localhost:8080/",
          "height": 70
        }
      },
      "source": [
        "sent_1500 = decontracted(sent_1500)\n",
        "print(sent_1500)\n",
        "print(\"=\"*50)"
      ],
      "execution_count": 13,
      "outputs": [
        {
          "output_type": "stream",
          "text": [
            "For those on a raw diet, this product is one of the best.  It is a simple snack (made with only two ingredients; dates and cashews), with no preservatives.  Even if you are not a raw foodist, this bar is a healthy snack to be enjoyed by all.  I even convinced by 83 year-old father to try one and he is hooked!\n",
            "==================================================\n"
          ],
          "name": "stdout"
        }
      ]
    },
    {
      "cell_type": "code",
      "metadata": {
        "id": "6bakeyaQJkkb",
        "colab_type": "code",
        "outputId": "d9ffcfc5-69a8-43ee-bcf6-34dc30c7a891",
        "colab": {
          "base_uri": "https://localhost:8080/",
          "height": 53
        }
      },
      "source": [
        "#remove words with numbers python: https://stackoverflow.com/a/18082370/4084039\n",
        "sent_0 = re.sub(\"\\S*\\d\\S*\", \"\", sent_0).strip()\n",
        "print(sent_0)"
      ],
      "execution_count": 14,
      "outputs": [
        {
          "output_type": "stream",
          "text": [
            "this witty little book makes my son laugh at loud. i recite it in the car as we're driving along and he always can sing the refrain. he's learned about whales, India, drooping roses:  i love all the new words this book  introduces and the silliness of it all.  this is a classic book i am  willing to bet my son will STILL be able to recite from memory when he is  in college\n"
          ],
          "name": "stdout"
        }
      ]
    },
    {
      "cell_type": "code",
      "metadata": {
        "id": "dMqqVqadJkkg",
        "colab_type": "code",
        "outputId": "c5806409-1f4a-4f41-d01e-fbcaaa9aebba",
        "colab": {
          "base_uri": "https://localhost:8080/",
          "height": 53
        }
      },
      "source": [
        "#remove spacial character: https://stackoverflow.com/a/5843547/4084039\n",
        "sent_1500 = re.sub('[^A-Za-z0-9]+', ' ', sent_1500)\n",
        "print(sent_1500)"
      ],
      "execution_count": 15,
      "outputs": [
        {
          "output_type": "stream",
          "text": [
            "For those on a raw diet this product is one of the best It is a simple snack made with only two ingredients dates and cashews with no preservatives Even if you are not a raw foodist this bar is a healthy snack to be enjoyed by all I even convinced by 83 year old father to try one and he is hooked \n"
          ],
          "name": "stdout"
        }
      ]
    },
    {
      "cell_type": "code",
      "metadata": {
        "id": "bvEoXB5NJkkk",
        "colab_type": "code",
        "colab": {}
      },
      "source": [
        "# https://gist.github.com/sebleier/554280\n",
        "# we are removing the words from the stop words list: 'no', 'nor', 'not'\n",
        "# <br /><br /> ==> after the above steps, we are getting \"br br\"\n",
        "# we are including them into stop words list\n",
        "# instead of <br /> if we have <br/> these tags would have revmoved in the 1st step\n",
        "\n",
        "stopwords= set(['br', 'the', 'i', 'me', 'my', 'myself', 'we', 'our', 'ours', 'ourselves', 'you', \"you're\", \"you've\",\\\n",
        "            \"you'll\", \"you'd\", 'your', 'yours', 'yourself', 'yourselves', 'he', 'him', 'his', 'himself', \\\n",
        "            'she', \"she's\", 'her', 'hers', 'herself', 'it', \"it's\", 'its', 'itself', 'they', 'them', 'their',\\\n",
        "            'theirs', 'themselves', 'what', 'which', 'who', 'whom', 'this', 'that', \"that'll\", 'these', 'those', \\\n",
        "            'am', 'is', 'are', 'was', 'were', 'be', 'been', 'being', 'have', 'has', 'had', 'having', 'do', 'does', \\\n",
        "            'did', 'doing', 'a', 'an', 'the', 'and', 'but', 'if', 'or', 'because', 'as', 'until', 'while', 'of', \\\n",
        "            'at', 'by', 'for', 'with', 'about', 'against', 'between', 'into', 'through', 'during', 'before', 'after',\\\n",
        "            'above', 'below', 'to', 'from', 'up', 'down', 'in', 'out', 'on', 'off', 'over', 'under', 'again', 'further',\\\n",
        "            'then', 'once', 'here', 'there', 'when', 'where', 'why', 'how', 'all', 'any', 'both', 'each', 'few', 'more',\\\n",
        "            'most', 'other', 'some', 'such', 'only', 'own', 'same', 'so', 'than', 'too', 'very', \\\n",
        "            's', 't', 'can', 'will', 'just', 'don', \"don't\", 'should', \"should've\", 'now', 'd', 'll', 'm', 'o', 're', \\\n",
        "            've', 'y', 'ain', 'aren', \"aren't\", 'couldn', \"couldn't\", 'didn', \"didn't\", 'doesn', \"doesn't\", 'hadn',\\\n",
        "            \"hadn't\", 'hasn', \"hasn't\", 'haven', \"haven't\", 'isn', \"isn't\", 'ma', 'mightn', \"mightn't\", 'mustn',\\\n",
        "            \"mustn't\", 'needn', \"needn't\", 'shan', \"shan't\", 'shouldn', \"shouldn't\", 'wasn', \"wasn't\", 'weren', \"weren't\", \\\n",
        "            'won', \"won't\", 'wouldn', \"wouldn't\"])"
      ],
      "execution_count": 0,
      "outputs": []
    },
    {
      "cell_type": "code",
      "metadata": {
        "id": "0j3jfqWCJkko",
        "colab_type": "code",
        "outputId": "62270eed-84f7-4f59-fac6-d220138835c2",
        "colab": {
          "base_uri": "https://localhost:8080/",
          "height": 33
        }
      },
      "source": [
        "# Combining all the above stundents \n",
        "from tqdm import tqdm\n",
        "import nltk\n",
        "sno = nltk.stem.SnowballStemmer('english')\n",
        "preprocessed_reviews = []\n",
        "# tqdm is for printing the status bar\n",
        "for sentance in tqdm(final['Text'].values):\n",
        "    sentance = re.sub(r\"http\\S+\", \"\", sentance)\n",
        "    sentance = BeautifulSoup(sentance, 'lxml').get_text()\n",
        "    sentance = decontracted(sentance)\n",
        "    sentance = re.sub(\"\\S*\\d\\S*\", \"\", sentance).strip()\n",
        "    sentance = re.sub('[^A-Za-z]+', ' ', sentance)\n",
        "    # https://gist.github.com/sebleier/554280\n",
        "    sentance = ' '.join(sno.stem(e.lower()) for e in sentance.split() if e.lower() not in stopwords)\n",
        "    preprocessed_reviews.append(sentance.strip())\n",
        "    "
      ],
      "execution_count": 17,
      "outputs": [
        {
          "output_type": "stream",
          "text": [
            "100%|██████████| 364171/364171 [07:15<00:00, 835.47it/s]\n"
          ],
          "name": "stderr"
        }
      ]
    },
    {
      "cell_type": "code",
      "metadata": {
        "id": "nS_7EeV7Jkkr",
        "colab_type": "code",
        "outputId": "85c359a2-fc6c-475f-c93c-f5b96e2511ba",
        "colab": {
          "base_uri": "https://localhost:8080/",
          "height": 53
        }
      },
      "source": [
        "preprocessed_reviews[1500]"
      ],
      "execution_count": 18,
      "outputs": [
        {
          "output_type": "execute_result",
          "data": {
            "text/plain": [
              "'raw diet product one best simpl snack made two ingredi date cashew no preserv even not raw foodist bar healthi snack enjoy even convinc year old father tri one hook'"
            ]
          },
          "metadata": {
            "tags": []
          },
          "execution_count": 18
        }
      ]
    },
    {
      "cell_type": "markdown",
      "metadata": {
        "id": "zak5yP5zJkkt",
        "colab_type": "text"
      },
      "source": [
        "<h2><font color='red'>[3.2] Preprocessing Review Summary</font></h2>"
      ]
    },
    {
      "cell_type": "markdown",
      "metadata": {
        "id": "ZFN0k_hEJklb",
        "colab_type": "text"
      },
      "source": [
        "# [5] Assignment 4: Apply Naive Bayes"
      ]
    },
    {
      "cell_type": "markdown",
      "metadata": {
        "id": "O1ABSoejJklc",
        "colab_type": "text"
      },
      "source": [
        "<ol>\n",
        "    <li><strong>Apply Multinomial NaiveBayes on these feature sets</strong>\n",
        "        <ul>\n",
        "            <li><font color='red'>SET 1:</font>Review text, preprocessed one converted into vectors using (BOW)</li>\n",
        "            <li><font color='red'>SET 2:</font>Review text, preprocessed one converted into vectors using (TFIDF)</li>\n",
        "        </ul>\n",
        "    </li>\n",
        "    <br>\n",
        "    <li><strong>The hyper paramter tuning(find best Alpha)</strong>\n",
        "        <ul>\n",
        "    <li>Find the best hyper parameter which will give the maximum <a href='https://www.appliedaicourse.com/course/applied-ai-course-online/lessons/receiver-operating-characteristic-curve-roc-curve-and-auc-1/'>AUC</a> value</li>\n",
        "    <li>Consider a wide range of alpha values for hyperparameter tuning, start as low as 0.00001</li>\n",
        "    <li>Find the best hyper paramter using k-fold cross validation or simple cross validation data</li>\n",
        "    <li>Use gridsearch cv or randomsearch cv or you can also write your own for loops to do this task of hyperparameter tuning</li>\n",
        "        </ul>\n",
        "    </li>\n",
        "    <br>\n",
        "    <li><strong>Feature importance</strong>\n",
        "        <ul>\n",
        "    <li>Find the top 10 features of positive class and top 10 features of negative class for both feature sets <font color='red'>Set 1</font> and <font color='red'>Set 2</font> using values of `feature_log_prob_` parameter of  <a href='https://scikit-learn.org/stable/modules/generated/sklearn.naive_bayes.MultinomialNB.html'>MultinomialNB</a> and print their corresponding feature names</li>\n",
        "        </ul>\n",
        "    </li>\n",
        "    <br>\n",
        "    <li><strong>Feature engineering</strong>\n",
        "        <ul>\n",
        "    <li>To increase the performance of your model, you can also experiment with with feature engineering like :</li>\n",
        "            <ul>\n",
        "            <li>Taking length of reviews as another feature.</li>\n",
        "            <li>Considering some features from review summary as well.</li>\n",
        "        </ul>\n",
        "        </ul>\n",
        "    </li>\n",
        "    <br>\n",
        "    <li><strong>Representation of results</strong>\n",
        "        <ul>\n",
        "    <li>You need to plot the performance of model both on train data and cross validation data for each hyper parameter, like shown in the figure. Here on X-axis you will have alpha values, since they have a wide range, just to represent those alpha values on the graph, apply log function on those alpha values.\n",
        "    <img src='train_cv_auc.JPG' width=300px></li>\n",
        "    <li>Once after you found the best hyper parameter, you need to train your model with it, and find the AUC on test data and plot the ROC curve on both train and test.\n",
        "    <img src='train_test_auc.JPG' width=300px></li>\n",
        "    <li>Along with plotting ROC curve, you need to print the <a href='https://www.appliedaicourse.com/course/applied-ai-course-online/lessons/confusion-matrix-tpr-fpr-fnr-tnr-1/'>confusion matrix</a> with predicted and original labels of test data points. Please visualize your confusion matrices using <a href='https://seaborn.pydata.org/generated/seaborn.heatmap.html'>seaborn heatmaps.\n",
        "    <img src='confusion_matrix.png' width=300px></li>\n",
        "        </ul>\n",
        "    </li>\n",
        "    <br>\n",
        "    <li><strong>Conclusion</strong>\n",
        "        <ul>\n",
        "    <li>You need to summarize the results at the end of the notebook, summarize it in the table format. To print out a table please refer to this prettytable library<a href='http://zetcode.com/python/prettytable/'>  link</a> \n",
        "        <img src='summary.JPG' width=400px>\n",
        "    </li>\n",
        "        </ul>\n",
        "</ol>"
      ]
    },
    {
      "cell_type": "markdown",
      "metadata": {
        "id": "YawkDx8TJklc",
        "colab_type": "text"
      },
      "source": [
        "<h4><font color='red'>Note: Data Leakage</font></h4>\n",
        "\n",
        "1. There will be an issue of data-leakage if you vectorize the entire data and then split it into train/cv/test.\n",
        "2. To avoid the issue of data-leakag, make sure to split your data first and then vectorize it. \n",
        "3. While vectorizing your data, apply the method fit_transform() on you train data, and apply the method transform() on cv/test data.\n",
        "4. For more details please go through this <a href='https://soundcloud.com/applied-ai-course/leakage-bow-and-tfidf'>link.</a>"
      ]
    },
    {
      "cell_type": "markdown",
      "metadata": {
        "id": "RGRFxjhgJklc",
        "colab_type": "text"
      },
      "source": [
        "# Applying Multinomial Naive Bayes"
      ]
    },
    {
      "cell_type": "markdown",
      "metadata": {
        "id": "FxGKHpZlJkle",
        "colab_type": "text"
      },
      "source": [
        "## [5.1] Applying Naive Bayes on BOW,<font color='red'> SET 1</font>"
      ]
    },
    {
      "cell_type": "code",
      "metadata": {
        "id": "UR0f8SfZJkle",
        "colab_type": "code",
        "outputId": "fec5795d-b54f-45a8-a572-280204dd70f0",
        "colab": {
          "base_uri": "https://localhost:8080/",
          "height": 1093
        }
      },
      "source": [
        "# Please write all the code with proper documentation\n",
        "# Motivation: To find the best hyperparameter value where AUC is Maximum\n",
        "# We will check alpha values between 0.00001 to \n",
        "# Slicing training, test  and cv data\n",
        "from sklearn.model_selection import train_test_split, GridSearchCV\n",
        "from sklearn.feature_extraction.text import CountVectorizer\n",
        "from sklearn.naive_bayes import MultinomialNB\n",
        "from sklearn.metrics import confusion_matrix\n",
        "import time\n",
        "import numpy as np\n",
        "import multiprocessing\n",
        "\n",
        "powers = list(np.arange(-5.0, 6.0, 1))\n",
        "alpha_list = (list(np.power(([10]*len(powers)), powers)))\n",
        "x_train, x_test, y_train, y_test= train_test_split(preprocessed_reviews, final['Score'], test_size= 0.20, shuffle= False, stratify= None)\n",
        "jobs= multiprocessing.cpu_count()\n",
        "print('Split done')\n",
        "\n",
        "vectorizer= CountVectorizer(ngram_range=(1,2), min_df=10)\n",
        "train= vectorizer.fit_transform(x_train)\n",
        "test= vectorizer.transform(x_test)\n",
        "print('Vectorization done')\n",
        "\n",
        "model= MultinomialNB(fit_prior= True, class_prior = [0.5, 0.5])\n",
        "params= {\n",
        "    'alpha': alpha_list  \n",
        "}\n",
        "\n",
        "\n",
        "score= GridSearchCV(model, params, cv= 5, scoring= 'roc_auc', verbose= 5, n_jobs= jobs, return_train_score= True)\n",
        "score.fit(train, y_train)\n",
        "print('Gridsearch done')\n",
        "\n",
        "train_auc= score.cv_results_['mean_train_score']\n",
        "train_auc_std= score.cv_results_['std_train_score']\n",
        "cv_auc = score.cv_results_['mean_test_score'] \n",
        "cv_auc_std= score.cv_results_['std_test_score']\n",
        "\n",
        "# Plotting train AUC\n",
        "fig = plt.figure(figsize=(8,10))\n",
        "ax1 = fig.add_subplot(211)\n",
        "ax1.plot(np.log10(alpha_list), train_auc, label='Train AUC')\n",
        "# this code is copied from here: https://stackoverflow.com/a/48803361/4084039\n",
        "ax1.fill_between(np.log10(alpha_list), train_auc - train_auc_std, train_auc + train_auc_std, alpha=0.2, color='darkblue')\n",
        "\n",
        "# Plotting CV AUC\n",
        "ax1.plot(np.log10(alpha_list), cv_auc, label='CV AUC')\n",
        "# this code is copied from here: https://stackoverflow.com/a/48803361/4084039\n",
        "ax1.fill_between(np.log10(alpha_list), cv_auc - cv_auc_std,cv_auc + cv_auc_std, alpha=0.2, color='darkorange')\n",
        "ax1.set(title='ERROR PLOTS', xlabel='Alpha: hyperparameter', ylabel='AUC')\n",
        "ax1.legend()\n",
        "\n",
        "best_model= score.best_estimator_\n",
        "\n",
        "#ROC curve on both train and test data\n",
        "train_fpr, train_tpr, thresholds = roc_curve(y_train, best_model.predict_proba(train)[:,1])\n",
        "test_fpr, test_tpr, thresholds = roc_curve(y_test, best_model.predict_proba(test)[:,1])\n",
        "\n",
        "ax2= fig.add_subplot(212)\n",
        "ax2.plot(train_fpr, train_tpr, label=\"train ROC =\"+str(auc(train_fpr, train_tpr)), color='green')\n",
        "ax2.plot(test_fpr, test_tpr, label=\"test ROC =\"+str(auc(test_fpr, test_tpr)), color='red')\n",
        "ax2.legend() \n",
        "\n",
        "plt.show()\n",
        "\n",
        "results = score.best_params_\n",
        "print('\\n==CONCLUSION==\\n')\n",
        "print('\\nBest Classifier Score :', results)\n",
        "print('Best Estimator :', score.best_estimator_)\n",
        "print('\\nAUC Score: {}\\n'.format(score.best_score_))\n",
        "\n",
        "TRCM= confusion_matrix(y_train, best_model.predict(train))\n",
        "TECM= confusion_matrix(y_test, best_model.predict(test))\n",
        "print(\"Train confusion matrix: \")\n",
        "print(TRCM)\n",
        "print(\"\\nTest confusion matrix: \")\n",
        "print(TECM)\n",
        "EST_BOW= score.best_estimator_\n",
        "AUC_BOW= score.best_score_\n",
        "CM_BOW= TECM\n",
        "print('\\nTest Sensitivity or True Positive Rate: {0:.2f}'.format(TECM[0][0]/(TECM[0][0]+TECM[1][0])))\n",
        "print('Test Specificity or False Negative Rate: {0:.2f}'.format(TECM[1][1]/(TECM[0][1]+TECM[1][1])))"
      ],
      "execution_count": 66,
      "outputs": [
        {
          "output_type": "stream",
          "text": [
            "Split done\n",
            "Vectorization done\n",
            "Fitting 5 folds for each of 11 candidates, totalling 55 fits\n"
          ],
          "name": "stdout"
        },
        {
          "output_type": "stream",
          "text": [
            "[Parallel(n_jobs=2)]: Using backend LokyBackend with 2 concurrent workers.\n",
            "[Parallel(n_jobs=2)]: Done  14 tasks      | elapsed:   10.1s\n",
            "/usr/local/lib/python3.6/dist-packages/joblib/externals/loky/process_executor.py:706: UserWarning: A worker stopped while some jobs were given to the executor. This can be caused by a too short worker timeout or by a memory leak.\n",
            "  \"timeout or by a memory leak.\", UserWarning\n",
            "[Parallel(n_jobs=2)]: Done  55 out of  55 | elapsed:   33.2s finished\n"
          ],
          "name": "stderr"
        },
        {
          "output_type": "stream",
          "text": [
            "Gridsearch done\n"
          ],
          "name": "stdout"
        },
        {
          "output_type": "display_data",
          "data": {
            "image/png": "[encoded data removed]",
            "text/plain": [
              "<Figure size 576x720 with 2 Axes>"
            ]
          },
          "metadata": {
            "tags": []
          }
        },
        {
          "output_type": "stream",
          "text": [
            "\n",
            "==CONCLUSION==\n",
            "\n",
            "\n",
            "Best Classifier Score : {'alpha': 1.0}\n",
            "Best Estimator : MultinomialNB(alpha=1.0, class_prior=[0.5, 0.5], fit_prior=True)\n",
            "\n",
            "AUC Score: 0.9458656584075754\n",
            "\n",
            "Train confusion matrix: \n",
            "[[ 41214   3361]\n",
            " [ 21330 225431]]\n",
            "\n",
            "Test confusion matrix: \n",
            "[[10994  1541]\n",
            " [ 6021 54279]]\n",
            "\n",
            "Test Sensitivity or True Positive Rate: 0.65\n",
            "Test Specificity or False Negative Rate: 0.97\n"
          ],
          "name": "stdout"
        }
      ]
    },
    {
      "cell_type": "markdown",
      "metadata": {
        "id": "u-ZSD3tlJklg",
        "colab_type": "text"
      },
      "source": [
        "### [5.1.1] Top 10 important features of positive class from<font color='red'> SET 1</font>"
      ]
    },
    {
      "cell_type": "code",
      "metadata": {
        "id": "86fu_aO8Jklg",
        "colab_type": "code",
        "outputId": "8c20fe2a-c6de-4d9f-dbb0-75c7e613522e",
        "colab": {
          "base_uri": "https://localhost:8080/",
          "height": 250
        }
      },
      "source": [
        "# Please write all the code with proper documentation\n",
        "# 10 Most important features from positive class\n",
        "\n",
        "features = vectorizer.get_feature_names()\n",
        "features_coef= pd.DataFrame()\n",
        "\n",
        "#top= (features_coef.sort_index(ascending=False).head(10))\n",
        "#print(top.values)\n",
        "features_coef['features']= features\n",
        "features_coef['coef']= best_model.feature_log_prob_[0]\n",
        "features_coef= features_coef.sort_values(by='coef', ascending=False)\n",
        "features_coef= features_coef.set_index('features')\n",
        "#print(best_model.feature_log_prob_[0])\n",
        "print('Top 10 positive features: \\n\\n', features_coef.head(10))\n"
      ],
      "execution_count": 67,
      "outputs": [
        {
          "output_type": "stream",
          "text": [
            "Top 10 positive features: \n",
            "\n",
            "               coef\n",
            "features          \n",
            "not      -3.777096\n",
            "tast     -4.732391\n",
            "like     -4.817361\n",
            "product  -4.990865\n",
            "would    -5.159711\n",
            "one      -5.270092\n",
            "flavor   -5.295770\n",
            "tri      -5.427197\n",
            "good     -5.587490\n",
            "coffe    -5.611672\n"
          ],
          "name": "stdout"
        }
      ]
    },
    {
      "cell_type": "markdown",
      "metadata": {
        "id": "mquFtwF5Jklj",
        "colab_type": "text"
      },
      "source": [
        "### [5.1.2] Top 10 important features of negative class from<font color='red'> SET 1</font>"
      ]
    },
    {
      "cell_type": "code",
      "metadata": {
        "id": "_RacUnTrJklj",
        "colab_type": "code",
        "outputId": "372dc36e-339d-4c50-d48b-a91811e6e876",
        "colab": {
          "base_uri": "https://localhost:8080/",
          "height": 250
        }
      },
      "source": [
        "# Please write all the code with proper documentation\n",
        "features_coef['features']= features\n",
        "features_coef['coef']= best_model.feature_log_prob_[1]\n",
        "features_coef= features_coef.sort_values(by='coef', ascending=False)\n",
        "features_coef= features_coef.set_index('features')\n",
        "#print(best_model.feature_log_prob_[0])\n",
        "print('Top 10 negative features: \\n\\n', features_coef.head(10))"
      ],
      "execution_count": 68,
      "outputs": [
        {
          "output_type": "stream",
          "text": [
            "Top 10 negative features: \n",
            "\n",
            "               coef\n",
            "features          \n",
            "not      -4.212043\n",
            "like     -4.932803\n",
            "tast     -4.995448\n",
            "good     -5.143631\n",
            "flavor   -5.158262\n",
            "love     -5.198045\n",
            "great    -5.225639\n",
            "use      -5.246376\n",
            "one      -5.294513\n",
            "product  -5.378398\n"
          ],
          "name": "stdout"
        }
      ]
    },
    {
      "cell_type": "markdown",
      "metadata": {
        "id": "6bp7BbwCJkll",
        "colab_type": "text"
      },
      "source": [
        "## [5.2] Applying Naive Bayes on TFIDF,<font color='red'> SET 2</font>"
      ]
    },
    {
      "cell_type": "code",
      "metadata": {
        "id": "oL29fzPFJkll",
        "colab_type": "code",
        "outputId": "2f495212-89a7-44ef-9860-fc1b63d3049e",
        "colab": {
          "base_uri": "https://localhost:8080/",
          "height": 1040
        }
      },
      "source": [
        "# Please write all the code with proper documentation\n",
        "# Please write all the code with proper documentation\n",
        "# Motivation: To find the best hyperparameter value where AUC is Maximum\n",
        "# We will check alpha values between 0.00001 to \n",
        "# Slicing training, test  and cv data\n",
        "from sklearn.model_selection import train_test_split, GridSearchCV\n",
        "from sklearn.feature_extraction.text import TfidfVectorizer\n",
        "from sklearn.naive_bayes import MultinomialNB\n",
        "from sklearn.metrics import confusion_matrix\n",
        "import time\n",
        "import numpy as np\n",
        "import multiprocessing\n",
        "\n",
        "powers = list(np.arange(-5.0, 6.0, 1))\n",
        "alpha_list = (list(np.power(([10]*len(powers)), powers)))\n",
        "x_train, x_test, y_train, y_test= train_test_split(preprocessed_reviews, final['Score'], test_size= 0.20, shuffle= False, stratify= None)\n",
        "jobs= multiprocessing.cpu_count()\n",
        "print('Split done')\n",
        "\n",
        "vectorizer= TfidfVectorizer(ngram_range=(1,2), min_df=10)\n",
        "train= vectorizer.fit_transform(x_train)\n",
        "test= vectorizer.transform(x_test)\n",
        "print('Vectorization done')\n",
        "\n",
        "model= MultinomialNB(fit_prior= True, class_prior = [0.5, 0.5])\n",
        "params= {\n",
        "    'alpha': alpha_list  \n",
        "}\n",
        "\n",
        "\n",
        "score= GridSearchCV(model, params, cv= 5, scoring= 'roc_auc', verbose= 5, n_jobs= jobs, return_train_score= True)\n",
        "score.fit(train, y_train)\n",
        "print('Gridsearch done')\n",
        "\n",
        "train_auc= score.cv_results_['mean_train_score']\n",
        "train_auc_std= score.cv_results_['std_train_score']\n",
        "cv_auc = score.cv_results_['mean_test_score'] \n",
        "cv_auc_std= score.cv_results_['std_test_score']\n",
        "\n",
        "# Plotting train AUC\n",
        "fig = plt.figure(figsize=(8,10))\n",
        "ax1 = fig.add_subplot(211)\n",
        "ax1.plot(np.log10(alpha_list), train_auc, label='Train AUC')\n",
        "# this code is copied from here: https://stackoverflow.com/a/48803361/4084039\n",
        "ax1.fill_between(np.log10(alpha_list), train_auc - train_auc_std, train_auc + train_auc_std, alpha=0.2, color='darkblue')\n",
        "\n",
        "# Plotting CV AUC\n",
        "ax1.plot(np.log10(alpha_list), cv_auc, label='CV AUC')\n",
        "# this code is copied from here: https://stackoverflow.com/a/48803361/4084039\n",
        "ax1.fill_between(np.log10(alpha_list), cv_auc - cv_auc_std,cv_auc + cv_auc_std, alpha=0.2, color='darkorange')\n",
        "ax1.set(title='ERROR PLOTS', xlabel='Alpha: hyperparameter', ylabel='AUC')\n",
        "ax1.legend()\n",
        "\n",
        "best_model= score.best_estimator_\n",
        "\n",
        "#ROC curve on both train and test data\n",
        "train_fpr, train_tpr, thresholds = roc_curve(y_train, best_model.predict_proba(train)[:,1])\n",
        "test_fpr, test_tpr, thresholds = roc_curve(y_test, best_model.predict_proba(test)[:,1])\n",
        "\n",
        "ax2= fig.add_subplot(212)\n",
        "ax2.plot(train_fpr, train_tpr, label=\"train ROC =\"+str(auc(train_fpr, train_tpr)), color='green')\n",
        "ax2.plot(test_fpr, test_tpr, label=\"test ROC =\"+str(auc(test_fpr, test_tpr)), color='red')\n",
        "ax2.legend() \n",
        "\n",
        "plt.show()\n",
        "\n",
        "results = score.best_params_\n",
        "print('\\n==CONCLUSION==\\n')\n",
        "print('\\nBest Classifier Score :', results)\n",
        "print('Best Estimator :', score.best_estimator_)\n",
        "print('\\nAUC Score: {}\\n'.format(score.best_score_))\n",
        "\n",
        "TRCM= confusion_matrix(y_train, best_model.predict(train))\n",
        "TECM= confusion_matrix(y_test, best_model.predict(test))\n",
        "EST_TFIDF= score.best_estimator_\n",
        "AUC_TFIDF= score.best_score_\n",
        "CM_TFIDF= TECM\n",
        "print(\"Train confusion matrix: \")\n",
        "print(TRCM)\n",
        "print(\"\\nTest confusion matrix: \")\n",
        "print(TECM)\n",
        "print('\\nTest Sensitivity or True Positive Rate: {0:.2f}'.format(TECM[0][0]/(TECM[0][0]+TECM[1][0])))\n",
        "print('Test Specificity or False Negative Rate: {0:.2f}'.format(TECM[1][1]/(TECM[0][1]+TECM[1][1])))"
      ],
      "execution_count": 69,
      "outputs": [
        {
          "output_type": "stream",
          "text": [
            "Split done\n",
            "Vectorization done\n",
            "Fitting 5 folds for each of 11 candidates, totalling 55 fits\n"
          ],
          "name": "stdout"
        },
        {
          "output_type": "stream",
          "text": [
            "[Parallel(n_jobs=2)]: Using backend LokyBackend with 2 concurrent workers.\n",
            "[Parallel(n_jobs=2)]: Done  14 tasks      | elapsed:    7.1s\n",
            "[Parallel(n_jobs=2)]: Done  55 out of  55 | elapsed:   28.2s finished\n"
          ],
          "name": "stderr"
        },
        {
          "output_type": "stream",
          "text": [
            "Gridsearch done\n"
          ],
          "name": "stdout"
        },
        {
          "output_type": "display_data",
          "data": {
            "image/png": "[encoded data removed]",
            "text/plain": [
              "<Figure size 576x720 with 2 Axes>"
            ]
          },
          "metadata": {
            "tags": []
          }
        },
        {
          "output_type": "stream",
          "text": [
            "\n",
            "==CONCLUSION==\n",
            "\n",
            "\n",
            "Best Classifier Score : {'alpha': 0.1}\n",
            "Best Estimator : MultinomialNB(alpha=0.1, class_prior=[0.5, 0.5], fit_prior=True)\n",
            "\n",
            "AUC Score: 0.9565903922999534\n",
            "\n",
            "Train confusion matrix: \n",
            "[[ 42435   2140]\n",
            " [ 20243 226518]]\n",
            "\n",
            "Test confusion matrix: \n",
            "[[11004  1531]\n",
            " [ 5945 54355]]\n",
            "\n",
            "Test Sensitivity or True Positive Rate: 0.65\n",
            "Test Specificity or False Negative Rate: 0.97\n"
          ],
          "name": "stdout"
        }
      ]
    },
    {
      "cell_type": "markdown",
      "metadata": {
        "id": "Dtpj7iMSJkln",
        "colab_type": "text"
      },
      "source": [
        "### [5.2.1] Top 10 important features of positive class from<font color='red'> SET 2</font>"
      ]
    },
    {
      "cell_type": "code",
      "metadata": {
        "id": "g3flcTmmJklo",
        "colab_type": "code",
        "outputId": "e97334a0-4e6e-4abb-ba37-714bdd0220ac",
        "colab": {
          "base_uri": "https://localhost:8080/",
          "height": 250
        }
      },
      "source": [
        "# Please write all the code with proper documentation\n",
        "# 10 Most important features from positive class\n",
        "\n",
        "features = vectorizer.get_feature_names()\n",
        "features_coef= pd.DataFrame()\n",
        "\n",
        "#top= (features_coef.sort_index(ascending=False).head(10))\n",
        "#print(top.values)\n",
        "features_coef['features']= features\n",
        "features_coef['coef']= best_model.feature_log_prob_[0]\n",
        "features_coef= features_coef.sort_values(by='coef', ascending=False)\n",
        "features_coef= features_coef.set_index('features')\n",
        "#print(best_model.feature_log_prob_[0])\n",
        "print('Top 10 positive features: \\n\\n', features_coef.head(10))\n",
        "\n"
      ],
      "execution_count": 70,
      "outputs": [
        {
          "output_type": "stream",
          "text": [
            "Top 10 positive features: \n",
            "\n",
            "               coef\n",
            "features          \n",
            "not      -5.044004\n",
            "tast     -5.672853\n",
            "like     -5.813305\n",
            "product  -5.848272\n",
            "would    -5.987756\n",
            "flavor   -6.177820\n",
            "one      -6.190573\n",
            "coffe    -6.211481\n",
            "tri      -6.304283\n",
            "order    -6.322203\n"
          ],
          "name": "stdout"
        }
      ]
    },
    {
      "cell_type": "markdown",
      "metadata": {
        "id": "UovIVRyEJklq",
        "colab_type": "text"
      },
      "source": [
        "### [5.2.2] Top 10 important features of negative class from<font color='red'> SET 2</font>"
      ]
    },
    {
      "cell_type": "code",
      "metadata": {
        "id": "i3i3cShuJklr",
        "colab_type": "code",
        "outputId": "399feedf-96e1-4939-d352-b0c224653c9b",
        "colab": {
          "base_uri": "https://localhost:8080/",
          "height": 250
        }
      },
      "source": [
        "# Please write all the code with proper documentation\n",
        "features_coef['features']= features\n",
        "features_coef['coef']= best_model.feature_log_prob_[1]\n",
        "features_coef= features_coef.sort_values(by='coef', ascending=False)\n",
        "features_coef= features_coef.set_index('features')\n",
        "#print(best_model.feature_log_prob_[0])\n",
        "print('Top 10 negative features: \\n\\n', features_coef.head(10))"
      ],
      "execution_count": 71,
      "outputs": [
        {
          "output_type": "stream",
          "text": [
            "Top 10 negative features: \n",
            "\n",
            "               coef\n",
            "features          \n",
            "not      -5.574044\n",
            "great    -5.926492\n",
            "love     -5.929298\n",
            "tast     -5.968901\n",
            "like     -5.974633\n",
            "good     -5.983612\n",
            "tea      -6.014625\n",
            "flavor   -6.042016\n",
            "coffe    -6.095663\n",
            "use      -6.134221\n"
          ],
          "name": "stdout"
        }
      ]
    },
    {
      "cell_type": "markdown",
      "metadata": {
        "id": "z8HdGMHEAbie",
        "colab_type": "text"
      },
      "source": [
        "**FEATURE  ENGINEERING ADDING EXTRA FEATURES TO IMPROVE MODEL**"
      ]
    },
    {
      "cell_type": "code",
      "metadata": {
        "id": "RblYypE6slsq",
        "colab_type": "code",
        "outputId": "03ac115e-24d2-4546-d4ec-b58b48594da2",
        "colab": {
          "base_uri": "https://localhost:8080/",
          "height": 50
        }
      },
      "source": [
        "x_train, x_test, y_train, y_test= train_test_split(preprocessed_reviews, final['Score'], test_size= 0.20, shuffle= False, stratify= None)\n",
        "jobs= multiprocessing.cpu_count()\n",
        "print('Split done')\n",
        "\n",
        "vectorizer= CountVectorizer(ngram_range=(1,2), min_df=10)\n",
        "train= vectorizer.fit_transform(x_train)\n",
        "\n",
        "test= vectorizer.transform(x_test)\n",
        "print('Vectorization done')\n",
        "\n",
        "model= MultinomialNB(fit_prior= True, class_prior = [0.5, 0.5])\n",
        "params= {\n",
        "    'alpha': alpha_list  \n",
        "}\n"
      ],
      "execution_count": 72,
      "outputs": [
        {
          "output_type": "stream",
          "text": [
            "Split done\n",
            "Vectorization done\n"
          ],
          "name": "stdout"
        }
      ]
    },
    {
      "cell_type": "code",
      "metadata": {
        "id": "Me16iV-jAaH7",
        "colab_type": "code",
        "outputId": "b1c55b50-bb3d-4fbe-e21e-256a890aa3fe",
        "colab": {
          "base_uri": "https://localhost:8080/",
          "height": 1093
        }
      },
      "source": [
        "from scipy import sparse\n",
        "\n",
        "\n",
        "score= GridSearchCV(model, params, cv= 5, scoring= 'roc_auc', verbose= 5, n_jobs= jobs, return_train_score= True)\n",
        "\n",
        "length_review_train= [len(string.split()) for string in x_train]\n",
        "length_review_test= [len(string.split()) for string in x_test]\n",
        "\n",
        "train = sparse.hstack((train, np.transpose([length_review_train])))\n",
        "test = sparse.hstack((test, np.transpose([length_review_test])))\n",
        "\n",
        "score.fit(train, y_train)\n",
        "print('Gridsearch done')\n",
        "\n",
        "train_auc= score.cv_results_['mean_train_score']\n",
        "train_auc_std= score.cv_results_['std_train_score']\n",
        "cv_auc = score.cv_results_['mean_test_score'] \n",
        "cv_auc_std= score.cv_results_['std_test_score']\n",
        "\n",
        "# Plotting train AUC\n",
        "fig = plt.figure(figsize=(8,10))\n",
        "ax1 = fig.add_subplot(211)\n",
        "ax1.plot(np.log10(alpha_list), train_auc, label='Train AUC')\n",
        "# this code is copied from here: https://stackoverflow.com/a/48803361/4084039\n",
        "ax1.fill_between(np.log10(alpha_list), train_auc - train_auc_std, train_auc + train_auc_std, alpha=0.2, color='darkblue')\n",
        "\n",
        "# Plotting CV AUC\n",
        "ax1.plot(np.log10(alpha_list), cv_auc, label='CV AUC')\n",
        "# this code is copied from here: https://stackoverflow.com/a/48803361/4084039\n",
        "ax1.fill_between(np.log10(alpha_list), cv_auc - cv_auc_std,cv_auc + cv_auc_std, alpha=0.2, color='darkorange')\n",
        "ax1.set(title='ERROR PLOTS', xlabel='Alpha: hyperparameter', ylabel='AUC')\n",
        "ax1.legend()\n",
        "\n",
        "best_model= score.best_estimator_\n",
        "\n",
        "#ROC curve on both train and test data\n",
        "train_fpr, train_tpr, thresholds = roc_curve(y_train, best_model.predict_proba(train)[:,1])\n",
        "test_fpr, test_tpr, thresholds = roc_curve(y_test, best_model.predict_proba(test)[:,1])\n",
        "\n",
        "ax2= fig.add_subplot(212)\n",
        "ax2.plot(train_fpr, train_tpr, label=\"train ROC =\"+str(auc(train_fpr, train_tpr)), color='green')\n",
        "ax2.plot(test_fpr, test_tpr, label=\"test ROC =\"+str(auc(test_fpr, test_tpr)), color='red')\n",
        "ax2.legend() \n",
        "\n",
        "plt.show()\n",
        "\n",
        "results = score.best_params_\n",
        "print('\\n==CONCLUSION==\\n')\n",
        "print('\\nBest Classifier Score :', results)\n",
        "print('Best Estimator :', score.best_estimator_)\n",
        "print('\\nAUC Score: {}\\n'.format(score.best_score_))\n",
        "\n",
        "TRCM= confusion_matrix(y_train, best_model.predict(train))\n",
        "TECM= confusion_matrix(y_test, best_model.predict(test))\n",
        "print(\"Train confusion matrix: \")\n",
        "print(TRCM)\n",
        "print(\"\\nTest confusion matrix: \")\n",
        "print(TECM)\n",
        "EST_BOW_FE= score.best_estimator_\n",
        "AUC_BOW_FE= score.best_score_\n",
        "CM_BOW_FE= TECM\n",
        "print('\\nTest Sensitivity or True Positive Rate: {0:.2f}'.format(TECM[0][0]/(TECM[0][0]+TECM[1][0])))\n",
        "print('Test Specificity or False Negative Rate: {0:.2f}'.format(TECM[1][1]/(TECM[0][1]+TECM[1][1])))"
      ],
      "execution_count": 73,
      "outputs": [
        {
          "output_type": "stream",
          "text": [
            "Fitting 5 folds for each of 11 candidates, totalling 55 fits\n"
          ],
          "name": "stdout"
        },
        {
          "output_type": "stream",
          "text": [
            "[Parallel(n_jobs=2)]: Using backend LokyBackend with 2 concurrent workers.\n",
            "/usr/local/lib/python3.6/dist-packages/joblib/externals/loky/process_executor.py:706: UserWarning: A worker stopped while some jobs were given to the executor. This can be caused by a too short worker timeout or by a memory leak.\n",
            "  \"timeout or by a memory leak.\", UserWarning\n",
            "[Parallel(n_jobs=2)]: Done  14 tasks      | elapsed:    9.2s\n",
            "/usr/local/lib/python3.6/dist-packages/joblib/externals/loky/process_executor.py:706: UserWarning: A worker stopped while some jobs were given to the executor. This can be caused by a too short worker timeout or by a memory leak.\n",
            "  \"timeout or by a memory leak.\", UserWarning\n",
            "[Parallel(n_jobs=2)]: Done  55 out of  55 | elapsed:   33.6s finished\n"
          ],
          "name": "stderr"
        },
        {
          "output_type": "stream",
          "text": [
            "Gridsearch done\n"
          ],
          "name": "stdout"
        },
        {
          "output_type": "display_data",
          "data": {
            "image/png": "[encoded data removed]",
            "text/plain": [
              "<Figure size 576x720 with 2 Axes>"
            ]
          },
          "metadata": {
            "tags": []
          }
        },
        {
          "output_type": "stream",
          "text": [
            "\n",
            "==CONCLUSION==\n",
            "\n",
            "\n",
            "Best Classifier Score : {'alpha': 1.0}\n",
            "Best Estimator : MultinomialNB(alpha=1.0, class_prior=[0.5, 0.5], fit_prior=True)\n",
            "\n",
            "AUC Score: 0.94587503121273\n",
            "\n",
            "Train confusion matrix: \n",
            "[[ 41199   3376]\n",
            " [ 21279 225482]]\n",
            "\n",
            "Test confusion matrix: \n",
            "[[10990  1545]\n",
            " [ 6007 54293]]\n",
            "\n",
            "Test Sensitivity or True Positive Rate: 0.65\n",
            "Test Specificity or False Negative Rate: 0.97\n"
          ],
          "name": "stdout"
        }
      ]
    },
    {
      "cell_type": "markdown",
      "metadata": {
        "id": "OicZ9zcOfOSp",
        "colab_type": "text"
      },
      "source": [
        "ADDING A WORDCOUNT FEATURE WITH TFIDF VECTOR"
      ]
    },
    {
      "cell_type": "code",
      "metadata": {
        "id": "zLSMLFufbdNp",
        "colab_type": "code",
        "outputId": "c0510089-985b-4487-d4b0-a939398a1584",
        "colab": {
          "base_uri": "https://localhost:8080/",
          "height": 1040
        }
      },
      "source": [
        "x_train, x_test, y_train, y_test= train_test_split(preprocessed_reviews, final['Score'], test_size= 0.20, shuffle= False, stratify= None)\n",
        "jobs= multiprocessing.cpu_count()\n",
        "print('Split done')\n",
        "\n",
        "vectorizer= TfidfVectorizer(ngram_range=(1,2), min_df=10)\n",
        "train= vectorizer.fit_transform(x_train)\n",
        "\n",
        "test= vectorizer.transform(x_test)\n",
        "print('Vectorization done')\n",
        "\n",
        "model= MultinomialNB(fit_prior= True, class_prior = [0.5, 0.5])\n",
        "params= {\n",
        "    'alpha': alpha_list  \n",
        "}\n",
        "from scipy import sparse\n",
        "\n",
        "\n",
        "score= GridSearchCV(model, params, cv= 5, scoring= 'roc_auc', verbose= 5, n_jobs= jobs, return_train_score= True)\n",
        "\n",
        "length_review_train= [len(string.split()) for string in x_train]\n",
        "length_review_test= [len(string.split()) for string in x_test]\n",
        "\n",
        "train = sparse.hstack((train, np.transpose([length_review_train])))\n",
        "test = sparse.hstack((test, np.transpose([length_review_test])))\n",
        "\n",
        "score.fit(train, y_train)\n",
        "print('Gridsearch done')\n",
        "\n",
        "train_auc= score.cv_results_['mean_train_score']\n",
        "train_auc_std= score.cv_results_['std_train_score']\n",
        "cv_auc = score.cv_results_['mean_test_score'] \n",
        "cv_auc_std= score.cv_results_['std_test_score']\n",
        "\n",
        "# Plotting train AUC\n",
        "fig = plt.figure(figsize=(8,10))\n",
        "ax1 = fig.add_subplot(211)\n",
        "ax1.plot(np.log10(alpha_list), train_auc, label='Train AUC')\n",
        "# this code is copied from here: https://stackoverflow.com/a/48803361/4084039\n",
        "ax1.fill_between(np.log10(alpha_list), train_auc - train_auc_std, train_auc + train_auc_std, alpha=0.2, color='darkblue')\n",
        "\n",
        "# Plotting CV AUC\n",
        "ax1.plot(np.log10(alpha_list), cv_auc, label='CV AUC')\n",
        "# this code is copied from here: https://stackoverflow.com/a/48803361/4084039\n",
        "ax1.fill_between(np.log10(alpha_list), cv_auc - cv_auc_std,cv_auc + cv_auc_std, alpha=0.2, color='darkorange')\n",
        "ax1.set(title='ERROR PLOTS', xlabel='Alpha: hyperparameter', ylabel='AUC')\n",
        "ax1.legend()\n",
        "\n",
        "best_model= score.best_estimator_\n",
        "\n",
        "#ROC curve on both train and test data\n",
        "train_fpr, train_tpr, thresholds = roc_curve(y_train, best_model.predict_proba(train)[:,1])\n",
        "test_fpr, test_tpr, thresholds = roc_curve(y_test, best_model.predict_proba(test)[:,1])\n",
        "\n",
        "ax2= fig.add_subplot(212)\n",
        "ax2.plot(train_fpr, train_tpr, label=\"train ROC =\"+str(auc(train_fpr, train_tpr)), color='green')\n",
        "ax2.plot(test_fpr, test_tpr, label=\"test ROC =\"+str(auc(test_fpr, test_tpr)), color='red')\n",
        "ax2.legend() \n",
        "\n",
        "plt.show()\n",
        "\n",
        "results = score.best_params_\n",
        "print('\\n==CONCLUSION==\\n')\n",
        "print('\\nBest Classifier Score :', results)\n",
        "print('Best Estimator :', score.best_estimator_)\n",
        "print('\\nAUC Score: {}\\n'.format(score.best_score_))\n",
        "\n",
        "TRCM= confusion_matrix(y_train, best_model.predict(train))\n",
        "TECM= confusion_matrix(y_test, best_model.predict(test))\n",
        "print(\"Train confusion matrix: \")\n",
        "print(TRCM)\n",
        "print(\"\\nTest confusion matrix: \")\n",
        "print(TECM)\n",
        "EST_TFIDF_FE= score.best_estimator_\n",
        "AUC_TFIDF_FE= score.best_score_\n",
        "CM_TFIDF_FE= TECM\n",
        "print('\\nTest Sensitivity or True Positive Rate: {0:.2f}'.format(TECM[0][0]/(TECM[0][0]+TECM[1][0])))\n",
        "print('Test Specificity or False Negative Rate: {0:.2f}'.format(TECM[1][1]/(TECM[0][1]+TECM[1][1])))"
      ],
      "execution_count": 74,
      "outputs": [
        {
          "output_type": "stream",
          "text": [
            "Split done\n",
            "Vectorization done\n",
            "Fitting 5 folds for each of 11 candidates, totalling 55 fits\n"
          ],
          "name": "stdout"
        },
        {
          "output_type": "stream",
          "text": [
            "[Parallel(n_jobs=2)]: Using backend LokyBackend with 2 concurrent workers.\n",
            "[Parallel(n_jobs=2)]: Done  14 tasks      | elapsed:    7.8s\n",
            "[Parallel(n_jobs=2)]: Done  55 out of  55 | elapsed:   29.7s finished\n"
          ],
          "name": "stderr"
        },
        {
          "output_type": "stream",
          "text": [
            "Gridsearch done\n"
          ],
          "name": "stdout"
        },
        {
          "output_type": "display_data",
          "data": {
            "image/png": "[encoded data removed]",
            "text/plain": [
              "<Figure size 576x720 with 2 Axes>"
            ]
          },
          "metadata": {
            "tags": []
          }
        },
        {
          "output_type": "stream",
          "text": [
            "\n",
            "==CONCLUSION==\n",
            "\n",
            "\n",
            "Best Classifier Score : {'alpha': 0.1}\n",
            "Best Estimator : MultinomialNB(alpha=0.1, class_prior=[0.5, 0.5], fit_prior=True)\n",
            "\n",
            "AUC Score: 0.9563207464291443\n",
            "\n",
            "Train confusion matrix: \n",
            "[[ 42433   2142]\n",
            " [ 20584 226177]]\n",
            "\n",
            "Test confusion matrix: \n",
            "[[11021  1514]\n",
            " [ 6058 54242]]\n",
            "\n",
            "Test Sensitivity or True Positive Rate: 0.65\n",
            "Test Specificity or False Negative Rate: 0.97\n"
          ],
          "name": "stdout"
        }
      ]
    },
    {
      "cell_type": "markdown",
      "metadata": {
        "id": "vst5Y7mmJklu",
        "colab_type": "text"
      },
      "source": [
        "# [6] Conclusions"
      ]
    },
    {
      "cell_type": "code",
      "metadata": {
        "id": "De9HYtIGJklv",
        "colab_type": "code",
        "colab": {
          "base_uri": "https://localhost:8080/",
          "height": 1207
        },
        "outputId": "d33fbcfe-0647-4dad-d872-6f98f0753612"
      },
      "source": [
        "# Please compare all your models using Prettytable library\n",
        "\n",
        "from prettytable import PrettyTable\n",
        "import seaborn as sns\n",
        "x= PrettyTable([\"Vectorizer\", \"Model\", \"Hyperparameter\", \"AUC\"])\n",
        "\n",
        "x.add_row(['BOW', 'Multinomial Naive Bayes', EST_BOW, '{:.4f}'.format(AUC_BOW)])\n",
        "x.add_row(['TFIDF', 'Multinomial Naive Bayes', EST_TFIDF, '{:.4f}'.format(AUC_TFIDF)])\n",
        "x.add_row(['BOW', 'Feature Engineered Multinomial Naive Bayes', EST_BOW_FE, '{:.4f}'.format(AUC_BOW_FE)])\n",
        "x.add_row(['TFIDF', 'Feature Engineered Multinomial Naive Bayes', EST_TFIDF_FE, '{:.4f}'.format(AUC_TFIDF_FE)])\n",
        "\n",
        "print(x)\n",
        "\n",
        "\n",
        "ax= sns.heatmap(CM_BOW, annot=True, fmt=\"d\")\n",
        "ax.set_title('Confusion matrix for BOW vectorizer')\n",
        "plt.show()\n",
        "\n",
        "ax= sns.heatmap(CM_TFIDF, annot=True, fmt=\"d\")\n",
        "ax.set_title('Confusion matrix for TFIDF vectorizer')\n",
        "plt.show()\n",
        "\n",
        "ax= sns.heatmap(CM_BOW_FE, annot=True, fmt=\"d\")\n",
        "ax.set_title('Confusion matrix for BOW vectorizer after adding wordcount as a \\'training\\' feature')\n",
        "plt.show()\n",
        "\n",
        "ax= sns.heatmap(CM_TFIDF_FE, annot=True, fmt=\"d\")\n",
        "ax.set_title('Confusion matrix for TFIDF vectorizer after adding wordcount as a \\'training\\' feature')\n",
        "plt.show()\n"
      ],
      "execution_count": 85,
      "outputs": [
        {
          "output_type": "stream",
          "text": [
            "+------------+--------------------------------------------+------------------------------------------------------------------+--------+\n",
            "| Vectorizer |                   Model                    |                          Hyperparameter                          |  AUC   |\n",
            "+------------+--------------------------------------------+------------------------------------------------------------------+--------+\n",
            "|    BOW     |          Multinomial Naive Bayes           | MultinomialNB(alpha=1.0, class_prior=[0.5, 0.5], fit_prior=True) | 0.9459 |\n",
            "|   TFIDF    |          Multinomial Naive Bayes           | MultinomialNB(alpha=0.1, class_prior=[0.5, 0.5], fit_prior=True) | 0.9566 |\n",
            "|    BOW     | Feature Engineered Multinomial Naive Bayes | MultinomialNB(alpha=1.0, class_prior=[0.5, 0.5], fit_prior=True) | 0.9459 |\n",
            "|   TFIDF    | Feature Engineered Multinomial Naive Bayes | MultinomialNB(alpha=0.1, class_prior=[0.5, 0.5], fit_prior=True) | 0.9563 |\n",
            "+------------+--------------------------------------------+------------------------------------------------------------------+--------+\n"
          ],
          "name": "stdout"
        },
        {
          "output_type": "display_data",
          "data": {
            "image/png": "[encoded data removed]",
            "text/plain": [
              "<Figure size 432x288 with 2 Axes>"
            ]
          },
          "metadata": {
            "tags": []
          }
        },
        {
          "output_type": "display_data",
          "data": {
            "image/png": "[encoded data removed]",
            "text/plain": [
              "<Figure size 432x288 with 2 Axes>"
            ]
          },
          "metadata": {
            "tags": []
          }
        },
        {
          "output_type": "display_data",
          "data": {
            "image/png": "[encoded data removed]",
            "text/plain": [
              "<Figure size 432x288 with 2 Axes>"
            ]
          },
          "metadata": {
            "tags": []
          }
        },
        {
          "output_type": "display_data",
          "data": {
            "image/png": "[encoded data removed]",
            "text/plain": [
              "<Figure size 432x288 with 2 Axes>"
            ]
          },
          "metadata": {
            "tags": []
          }
        }
      ]
    },
    {
      "cell_type": "code",
      "metadata": {
        "id": "XuNMzinVPe8b",
        "colab_type": "code",
        "colab": {}
      },
      "source": [
        ""
      ],
      "execution_count": 0,
      "outputs": []
    }
  ]
}